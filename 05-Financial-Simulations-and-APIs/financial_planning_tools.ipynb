{
 "cells": [
  {
   "cell_type": "markdown",
   "metadata": {},
   "source": [
    "# Financial Planning with APIs and Simulations\n",
    "\n",
    "In this Challenge, you’ll create two financial analysis tools by using a single Jupyter notebook:\n",
    "\n",
    "Part 1: A financial planner for emergencies. The members will be able to use this tool to visualize their current savings. The members can then determine if they have enough reserves for an emergency fund.\n",
    "\n",
    "Part 2: A financial planner for retirement. This tool will forecast the performance of their retirement portfolio in 30 years. To do this, the tool will make an Alpaca API call via the Alpaca SDK to get historical price data for use in Monte Carlo simulations.\n",
    "\n",
    "You’ll use the information from the Monte Carlo simulation to answer questions about the portfolio in your Jupyter notebook.\n",
    "\n"
   ]
  },
  {
   "cell_type": "code",
   "execution_count": 82,
   "metadata": {},
   "outputs": [],
   "source": [
    "# Import the required libraries and dependencies\n",
    "import os\n",
    "import requests\n",
    "import json\n",
    "import pandas as pd\n",
    "from dotenv import load_dotenv\n",
    "import alpaca_trade_api as tradeapi\n",
    "from MCForecastTools import MCSimulation\n",
    "import datetime\n",
    "\n",
    "%matplotlib inline"
   ]
  },
  {
   "cell_type": "code",
   "execution_count": 2,
   "metadata": {},
   "outputs": [
    {
     "data": {
      "text/plain": [
       "True"
      ]
     },
     "execution_count": 2,
     "metadata": {},
     "output_type": "execute_result"
    }
   ],
   "source": [
    "# Load the environment variables from the .env file\n",
    "#by calling the load_dotenv function\n",
    "load_dotenv()"
   ]
  },
  {
   "cell_type": "markdown",
   "metadata": {},
   "source": [
    "## Part 1: Create a Financial Planner for Emergencies"
   ]
  },
  {
   "cell_type": "markdown",
   "metadata": {},
   "source": [
    "### Evaluate the Cryptocurrency Wallet by Using the Requests Library\n",
    "\n",
    "In this section, you’ll determine the current value of a member’s cryptocurrency wallet. You’ll collect the current prices for the Bitcoin and Ethereum cryptocurrencies by using the Python Requests library. For the prototype, you’ll assume that the member holds the 1.2 Bitcoins (BTC) and 5.3 Ethereum coins (ETH). To do all this, complete the following steps:\n",
    "\n",
    "1. Create a variable named `monthly_income`, and set its value to `12000`.\n",
    "\n",
    "2. Use the Requests library to get the current price (in US dollars) of Bitcoin (BTC) and Ethereum (ETH) by using the API endpoints that the starter code supplies.\n",
    "\n",
    "3. Navigate the JSON response object to access the current price of each coin, and store each in a variable.\n",
    "\n",
    "    > **Hint** Note the specific identifier for each cryptocurrency in the API JSON response. The Bitcoin identifier is `1`, and the Ethereum identifier is `1027`.\n",
    "\n",
    "4. Calculate the value, in US dollars, of the current amount of each cryptocurrency and of the entire cryptocurrency wallet.\n",
    "\n"
   ]
  },
  {
   "cell_type": "code",
   "execution_count": 3,
   "metadata": {},
   "outputs": [],
   "source": [
    "# The current number of coins for each cryptocurrency asset held in the portfolio.\n",
    "btc_coins = 1.2\n",
    "eth_coins = 5.3"
   ]
  },
  {
   "cell_type": "markdown",
   "metadata": {},
   "source": [
    "#### Step 1: Create a variable named `monthly_income`, and set its value to `12000`."
   ]
  },
  {
   "cell_type": "code",
   "execution_count": 4,
   "metadata": {},
   "outputs": [],
   "source": [
    "# The monthly amount for the member's household income\n",
    "monthly_income = 12000\n"
   ]
  },
  {
   "cell_type": "markdown",
   "metadata": {},
   "source": [
    "#### Review the endpoint URLs for the API calls to Free Crypto API in order to get the current pricing information for both BTC and ETH."
   ]
  },
  {
   "cell_type": "code",
   "execution_count": 5,
   "metadata": {},
   "outputs": [],
   "source": [
    "# The Free Crypto API Call endpoint URLs for the held cryptocurrency assets\n",
    "btc_url = \"https://api.alternative.me/v2/ticker/Bitcoin/?convert=USD\"\n",
    "eth_url = \"https://api.alternative.me/v2/ticker/Ethereum/?convert=USD\""
   ]
  },
  {
   "cell_type": "markdown",
   "metadata": {},
   "source": [
    "#### Step 2. Use the Requests library to get the current price (in US dollars) of Bitcoin (BTC) and Ethereum (ETH) by using the API endpoints that the starter code supplied."
   ]
  },
  {
   "cell_type": "code",
   "execution_count": 60,
   "metadata": {},
   "outputs": [
    {
     "name": "stdout",
     "output_type": "stream",
     "text": [
      "{\n",
      "   \"data\": {\n",
      "      \"1\": {\n",
      "         \"circulating_supply\": 18770656,\n",
      "         \"id\": 1,\n",
      "         \"last_updated\": 1627606692,\n",
      "         \"max_supply\": 21000000,\n",
      "         \"name\": \"Bitcoin\",\n",
      "         \"quotes\": {\n",
      "            \"USD\": {\n",
      "               \"market_cap\": 749794782431,\n",
      "               \"percent_change_1h\": -0.0808924495523145,\n",
      "               \"percent_change_24h\": 1.04310014102677,\n",
      "               \"percent_change_7d\": 23.2521891399893,\n",
      "               \"percentage_change_1h\": -0.0808924495523145,\n",
      "               \"percentage_change_24h\": 1.04310014102677,\n",
      "               \"percentage_change_7d\": 23.2521891399893,\n",
      "               \"price\": 39945.0,\n",
      "               \"volume_24h\": 28807559620\n",
      "            }\n",
      "         },\n",
      "         \"rank\": 1,\n",
      "         \"symbol\": \"BTC\",\n",
      "         \"total_supply\": 18770656,\n",
      "         \"website_slug\": \"bitcoin\"\n",
      "      }\n",
      "   },\n",
      "   \"metadata\": {\n",
      "      \"error\": null,\n",
      "      \"num_cryptocurrencies\": 3105,\n",
      "      \"timestamp\": 1627606692\n",
      "   }\n",
      "}\n"
     ]
    }
   ],
   "source": [
    "# Using the Python requests library, make an API call to access the current price of BTC\n",
    "btc_response = requests.get(btc_url).json()\n",
    "\n",
    "# Use the json.dumps function to review the response data from the API call\n",
    "# Use the indent and sort_keys parameters to make the response object readable\n",
    "print(json.dumps(btc_response, indent=3, sort_keys=True))\n"
   ]
  },
  {
   "cell_type": "code",
   "execution_count": 61,
   "metadata": {},
   "outputs": [
    {
     "name": "stdout",
     "output_type": "stream",
     "text": [
      "{\n",
      "   \"data\": {\n",
      "      \"1027\": {\n",
      "         \"circulating_supply\": 116894923,\n",
      "         \"id\": 1027,\n",
      "         \"last_updated\": 1627606763,\n",
      "         \"max_supply\": 0,\n",
      "         \"name\": \"Ethereum\",\n",
      "         \"quotes\": {\n",
      "            \"USD\": {\n",
      "               \"market_cap\": 279322726362,\n",
      "               \"percent_change_1h\": 0.501268417223304,\n",
      "               \"percent_change_24h\": 4.99428207690238,\n",
      "               \"percent_change_7d\": 17.8145649584075,\n",
      "               \"percentage_change_1h\": 0.501268417223304,\n",
      "               \"percentage_change_24h\": 4.99428207690238,\n",
      "               \"percentage_change_7d\": 17.8145649584075,\n",
      "               \"price\": 2388.73,\n",
      "               \"volume_24h\": 18837758296\n",
      "            }\n",
      "         },\n",
      "         \"rank\": 2,\n",
      "         \"symbol\": \"ETH\",\n",
      "         \"total_supply\": 116894923,\n",
      "         \"website_slug\": \"ethereum\"\n",
      "      }\n",
      "   },\n",
      "   \"metadata\": {\n",
      "      \"error\": null,\n",
      "      \"num_cryptocurrencies\": 3105,\n",
      "      \"timestamp\": 1627606763\n",
      "   }\n",
      "}\n"
     ]
    }
   ],
   "source": [
    "# Using the Python requests library, make an API call to access the current price ETH\n",
    "eth_response = requests.get(eth_url).json()\n",
    "\n",
    "# Use the json.dumps function to review the response data from the API call\n",
    "# Use the indent and sort_keys parameters to make the response object readable\n",
    "print(json.dumps(eth_response, indent=3, sort_keys=True))\n"
   ]
  },
  {
   "cell_type": "markdown",
   "metadata": {},
   "source": [
    "#### Step 3: Navigate the JSON response object to access the current price of each coin, and store each in a variable."
   ]
  },
  {
   "cell_type": "code",
   "execution_count": 8,
   "metadata": {},
   "outputs": [
    {
     "data": {
      "text/plain": [
       "39985.0"
      ]
     },
     "execution_count": 8,
     "metadata": {},
     "output_type": "execute_result"
    }
   ],
   "source": [
    "# Navigate the BTC response object to access the current price of BTC\n",
    "btc_price = btc_response[\"data\"][\"1\"][\"quotes\"][\"USD\"][\"price\"]\n",
    "\n",
    "# Print the current price of BTC\n",
    "btc_price\n"
   ]
  },
  {
   "cell_type": "code",
   "execution_count": 9,
   "metadata": {},
   "outputs": [
    {
     "data": {
      "text/plain": [
       "2378.76"
      ]
     },
     "execution_count": 9,
     "metadata": {},
     "output_type": "execute_result"
    }
   ],
   "source": [
    "# Navigate the BTC response object to access the current price of ETH\n",
    "eth_price = eth_response[\"data\"][\"1027\"][\"quotes\"][\"USD\"][\"price\"]\n",
    "\n",
    "# Print the current price of ETH\n",
    "eth_price\n"
   ]
  },
  {
   "cell_type": "markdown",
   "metadata": {},
   "source": [
    "### Step 4: Calculate the value, in US dollars, of the current amount of each cryptocurrency and of the entire cryptocurrency wallet."
   ]
  },
  {
   "cell_type": "code",
   "execution_count": 10,
   "metadata": {},
   "outputs": [
    {
     "data": {
      "text/plain": [
       "47982.0"
      ]
     },
     "execution_count": 10,
     "metadata": {},
     "output_type": "execute_result"
    }
   ],
   "source": [
    "# Compute the current value of the BTC holding \n",
    "btc_value = btc_coins * btc_price\n",
    "\n",
    "# Print current value of your holding in BTC\n",
    "btc_value\n"
   ]
  },
  {
   "cell_type": "code",
   "execution_count": 11,
   "metadata": {},
   "outputs": [
    {
     "data": {
      "text/plain": [
       "12607.428"
      ]
     },
     "execution_count": 11,
     "metadata": {},
     "output_type": "execute_result"
    }
   ],
   "source": [
    "# Compute the current value of the ETH holding \n",
    "eth_value = eth_coins * eth_price\n",
    "\n",
    "# Print current value of your holding in ETH\n",
    "eth_value\n"
   ]
  },
  {
   "cell_type": "code",
   "execution_count": 12,
   "metadata": {},
   "outputs": [
    {
     "data": {
      "text/plain": [
       "60589.428"
      ]
     },
     "execution_count": 12,
     "metadata": {},
     "output_type": "execute_result"
    }
   ],
   "source": [
    "# Compute the total value of the cryptocurrency wallet\n",
    "# Add the value of the BTC holding to the value of the ETH holding\n",
    "total_crypto_wallet = btc_value + eth_value\n",
    "\n",
    "# Print current cryptocurrency wallet balance\n",
    "total_crypto_wallet\n"
   ]
  },
  {
   "cell_type": "markdown",
   "metadata": {},
   "source": [
    "### Evaluate the Stock and Bond Holdings by Using the Alpaca SDK\n",
    "\n",
    "In this section, you’ll determine the current value of a member’s stock and bond holdings. You’ll make an API call to Alpaca via the Alpaca SDK to get the current closing prices of the SPDR S&P 500 ETF Trust (ticker: SPY) and of the iShares Core US Aggregate Bond ETF (ticker: AGG). For the prototype, assume that the member holds 110 shares of SPY, which represents the stock portion of their portfolio, and 200 shares of AGG, which represents the bond portion. To do all this, complete the following steps:\n",
    "\n",
    "1. In the `Starter_Code` folder, create an environment file (`.env`) to store the values of your Alpaca API key and Alpaca secret key.\n",
    "\n",
    "2. Set the variables for the Alpaca API and secret keys. Using the Alpaca SDK, create the Alpaca `tradeapi.REST` object. In this object, include the parameters for the Alpaca API key, the secret key, and the version number.\n",
    "\n",
    "3. Set the following parameters for the Alpaca API call:\n",
    "\n",
    "    - `tickers`: Use the tickers for the member’s stock and bond holdings.\n",
    "\n",
    "    - `timeframe`: Use a time frame of one day.\n",
    "\n",
    "    - `start_date` and `end_date`: Use the same date for these parameters, and format them with the date of the previous weekday (or `2020-08-07`). This is because you want the one closing price for the most-recent trading day.\n",
    "\n",
    "4. Get the current closing prices for `SPY` and `AGG` by using the Alpaca `get_barset` function. Format the response as a Pandas DataFrame by including the `df` property at the end of the `get_barset` function.\n",
    "\n",
    "5. Navigating the Alpaca response DataFrame, select the `SPY` and `AGG` closing prices, and store them as variables.\n",
    "\n",
    "6. Calculate the value, in US dollars, of the current amount of shares in each of the stock and bond portions of the portfolio, and print the results.\n"
   ]
  },
  {
   "cell_type": "markdown",
   "metadata": {},
   "source": [
    "#### Review the total number of shares held in both (SPY) and (AGG)."
   ]
  },
  {
   "cell_type": "code",
   "execution_count": 13,
   "metadata": {},
   "outputs": [],
   "source": [
    "# Current amount of shares held in both the stock (SPY) and bond (AGG) portion of the portfolio.\n",
    "spy_shares = 110\n",
    "agg_shares = 200\n"
   ]
  },
  {
   "cell_type": "markdown",
   "metadata": {},
   "source": [
    "#### Step 1: In the `Starter_Code` folder, create an environment file (`.env`) to store the values of your Alpaca API key and Alpaca secret key."
   ]
  },
  {
   "cell_type": "markdown",
   "metadata": {},
   "source": [
    "#### Step 2: Set the variables for the Alpaca API and secret keys. Using the Alpaca SDK, create the Alpaca `tradeapi.REST` object. In this object, include the parameters for the Alpaca API key, the secret key, and the version number."
   ]
  },
  {
   "cell_type": "code",
   "execution_count": 14,
   "metadata": {},
   "outputs": [],
   "source": [
    "# Set the variables for the Alpaca API and secret keys\n",
    "alpaca_api_key = os.getenv(\"ALPACA_API_KEY\")\n",
    "alpaca_secret_key = os.getenv(\"ALPACA_SECRET_KEY\")\n",
    "\n",
    "# Create the Alpaca tradeapi.REST object\n",
    "alpaca = tradeapi.REST(\n",
    "    alpaca_api_key,\n",
    "    alpaca_secret_key,\n",
    "    api_version=\"v2\")\n"
   ]
  },
  {
   "cell_type": "markdown",
   "metadata": {},
   "source": [
    "#### Step 3: Set the following parameters for the Alpaca API call:\n",
    "\n",
    "- `tickers`: Use the tickers for the member’s stock and bond holdings.\n",
    "\n",
    "- `timeframe`: Use a time frame of one day.\n",
    "\n",
    "- `start_date` and `end_date`: Use the same date for these parameters, and format them with the date of the previous weekday (or `2020-08-07`). This is because you want the one closing price for the most-recent trading day.\n"
   ]
  },
  {
   "cell_type": "code",
   "execution_count": 188,
   "metadata": {},
   "outputs": [
    {
     "data": {
      "text/plain": [
       "('2021-07-28', '2021-07-28T00:00:00-07:00')"
      ]
     },
     "execution_count": 188,
     "metadata": {},
     "output_type": "execute_result"
    }
   ],
   "source": [
    "# Set the tickers for both the bond and stock portion of the portfolio\n",
    "tickers = [\"SPY\", \"AGG\"]\n",
    "\n",
    "# Set timeframe to 1D \n",
    "timeframe = \"1D\"\n",
    "\n",
    "# Format current date as ISO format\n",
    "# Set both the start and end date at the date of your prior weekday \n",
    "# This will give you the closing price of the previous trading day\n",
    "# Alternatively you can use a start and end date of 2020-08-07\n",
    "today = str(datetime.datetime.now()).split()[0]\n",
    "today_iso = pd.Timestamp(today, tz=\"America/Los_Angeles\").isoformat()\n",
    "yesterday = str(datetime.datetime.now() - datetime.timedelta(days=1)).split()[0]\n",
    "yesterday_iso = pd.Timestamp(yesterday, tz= \"America/Los_Angeles\").isoformat()\n",
    "yesterday_iso\n",
    "start_date = yesterday_iso\n",
    "end_date = yesterday_iso\n",
    "yesterday, yesterday_iso"
   ]
  },
  {
   "cell_type": "markdown",
   "metadata": {},
   "source": [
    "#### Step 4: Get the current closing prices for `SPY` and `AGG` by using the Alpaca `get_barset` function. Format the response as a Pandas DataFrame by including the `df` property at the end of the `get_barset` function."
   ]
  },
  {
   "cell_type": "code",
   "execution_count": 55,
   "metadata": {},
   "outputs": [
    {
     "data": {
      "text/html": [
       "<div>\n",
       "<style scoped>\n",
       "    .dataframe tbody tr th:only-of-type {\n",
       "        vertical-align: middle;\n",
       "    }\n",
       "\n",
       "    .dataframe tbody tr th {\n",
       "        vertical-align: top;\n",
       "    }\n",
       "\n",
       "    .dataframe thead tr th {\n",
       "        text-align: left;\n",
       "    }\n",
       "\n",
       "    .dataframe thead tr:last-of-type th {\n",
       "        text-align: right;\n",
       "    }\n",
       "</style>\n",
       "<table border=\"1\" class=\"dataframe\">\n",
       "  <thead>\n",
       "    <tr>\n",
       "      <th></th>\n",
       "      <th colspan=\"5\" halign=\"left\">AGG</th>\n",
       "      <th colspan=\"5\" halign=\"left\">SPY</th>\n",
       "    </tr>\n",
       "    <tr>\n",
       "      <th></th>\n",
       "      <th>open</th>\n",
       "      <th>high</th>\n",
       "      <th>low</th>\n",
       "      <th>close</th>\n",
       "      <th>volume</th>\n",
       "      <th>open</th>\n",
       "      <th>high</th>\n",
       "      <th>low</th>\n",
       "      <th>close</th>\n",
       "      <th>volume</th>\n",
       "    </tr>\n",
       "    <tr>\n",
       "      <th>time</th>\n",
       "      <th></th>\n",
       "      <th></th>\n",
       "      <th></th>\n",
       "      <th></th>\n",
       "      <th></th>\n",
       "      <th></th>\n",
       "      <th></th>\n",
       "      <th></th>\n",
       "      <th></th>\n",
       "      <th></th>\n",
       "    </tr>\n",
       "  </thead>\n",
       "  <tbody>\n",
       "    <tr>\n",
       "      <th>2021-07-28 00:00:00-04:00</th>\n",
       "      <td>116.24</td>\n",
       "      <td>116.49</td>\n",
       "      <td>116.14</td>\n",
       "      <td>116.48</td>\n",
       "      <td>5189696</td>\n",
       "      <td>439.68</td>\n",
       "      <td>440.3</td>\n",
       "      <td>437.31</td>\n",
       "      <td>438.84</td>\n",
       "      <td>47642330</td>\n",
       "    </tr>\n",
       "  </tbody>\n",
       "</table>\n",
       "</div>"
      ],
      "text/plain": [
       "                              AGG                                      SPY  \\\n",
       "                             open    high     low   close   volume    open   \n",
       "time                                                                         \n",
       "2021-07-28 00:00:00-04:00  116.24  116.49  116.14  116.48  5189696  439.68   \n",
       "\n",
       "                                                            \n",
       "                            high     low   close    volume  \n",
       "time                                                        \n",
       "2021-07-28 00:00:00-04:00  440.3  437.31  438.84  47642330  "
      ]
     },
     "execution_count": 55,
     "metadata": {},
     "output_type": "execute_result"
    }
   ],
   "source": [
    "# Use the Alpaca get_barset function to get current closing prices the portfolio\n",
    "# Be sure to set the `df` property after the function to format the response object as a DataFrame\n",
    "df_portfolio = alpaca.get_barset(\n",
    "    tickers,\n",
    "    timeframe,\n",
    "    limit=365,\n",
    "    start = yesterday_iso,\n",
    "    end = yesterday_iso\n",
    ").df\n",
    "\n",
    "# Review the first 5 rows of the Alpaca DataFrame\n",
    "df_portfolio.head()\n"
   ]
  },
  {
   "cell_type": "markdown",
   "metadata": {},
   "source": [
    "#### Step 5: Navigating the Alpaca response DataFrame, select the `SPY` and `AGG` closing prices, and store them as variables."
   ]
  },
  {
   "cell_type": "code",
   "execution_count": 56,
   "metadata": {},
   "outputs": [
    {
     "name": "stdout",
     "output_type": "stream",
     "text": [
      "116.48\n"
     ]
    }
   ],
   "source": [
    "# Access the closing price for AGG from the Alpaca DataFrame\n",
    "# Converting the value to a floating point number\n",
    "agg_close_price = float(df_portfolio[\"AGG\"][\"close\"])\n",
    "\n",
    "# Print the AGG closing price\n",
    "print(agg_close_price)\n"
   ]
  },
  {
   "cell_type": "code",
   "execution_count": 57,
   "metadata": {},
   "outputs": [
    {
     "data": {
      "text/plain": [
       "438.84"
      ]
     },
     "execution_count": 57,
     "metadata": {},
     "output_type": "execute_result"
    }
   ],
   "source": [
    "# Access the closing price for SPY from the Alpaca DataFrame\n",
    "# Converting the value to a floating point number\n",
    "spy_close_price = float(df_portfolio[\"SPY\"][\"close\"])\n",
    "\n",
    "# Print the SPY closing price\n",
    "spy_close_price\n"
   ]
  },
  {
   "cell_type": "markdown",
   "metadata": {},
   "source": [
    "#### Step 6: Calculate the value, in US dollars, of the current amount of shares in each of the stock and bond portions of the portfolio, and print the results."
   ]
  },
  {
   "cell_type": "code",
   "execution_count": 58,
   "metadata": {},
   "outputs": [
    {
     "data": {
      "text/plain": [
       "23296.0"
      ]
     },
     "execution_count": 58,
     "metadata": {},
     "output_type": "execute_result"
    }
   ],
   "source": [
    "# Calculate the current value of the bond portion of the portfolio\n",
    "agg_value = agg_shares * agg_close_price\n",
    "\n",
    "# Print the current value of the bond portfolio\n",
    "agg_value\n"
   ]
  },
  {
   "cell_type": "code",
   "execution_count": 59,
   "metadata": {},
   "outputs": [
    {
     "data": {
      "text/plain": [
       "48272.399999999994"
      ]
     },
     "execution_count": 59,
     "metadata": {},
     "output_type": "execute_result"
    }
   ],
   "source": [
    "# Calculate the current value of the stock portion of the portfolio\n",
    "spy_value = spy_shares * spy_close_price\n",
    "\n",
    "# Print the current value of the stock portfolio\n",
    "spy_value"
   ]
  },
  {
   "cell_type": "code",
   "execution_count": 21,
   "metadata": {},
   "outputs": [
    {
     "data": {
      "text/plain": [
       "71568.4"
      ]
     },
     "execution_count": 21,
     "metadata": {},
     "output_type": "execute_result"
    }
   ],
   "source": [
    "# Calculate the total value of the stock and bond portion of the portfolio\n",
    "total_stocks_bonds = spy_value + agg_value\n",
    "\n",
    "# Print the current balance of the stock and bond portion of the portfolio\n",
    "# YOUR CODE HERE\n",
    "total_stocks_bonds"
   ]
  },
  {
   "cell_type": "code",
   "execution_count": 22,
   "metadata": {},
   "outputs": [
    {
     "data": {
      "text/plain": [
       "(132157.82799999998, 60589.428)"
      ]
     },
     "execution_count": 22,
     "metadata": {},
     "output_type": "execute_result"
    }
   ],
   "source": [
    "# Calculate the total value of the member's entire savings portfolio\n",
    "# Add the value of the cryptocurrency walled to the value of the total stocks and bonds\n",
    "total_portfolio = total_crypto_wallet + total_stocks_bonds\n",
    "\n",
    "# Print current cryptocurrency wallet balance\n",
    "total_portfolio, total_crypto_wallet\n"
   ]
  },
  {
   "cell_type": "markdown",
   "metadata": {},
   "source": [
    "### Evaluate the Emergency Fund\n",
    "\n",
    "In this section, you’ll use the valuations for the cryptocurrency wallet and for the stock and bond portions of the portfolio to determine if the credit union member has enough savings to build an emergency fund into their financial plan. To do this, complete the following steps:\n",
    "\n",
    "1. Create a Python list named `savings_data` that has two elements. The first element contains the total value of the cryptocurrency wallet. The second element contains the total value of the stock and bond portions of the portfolio.\n",
    "\n",
    "2. Use the `savings_data` list to create a Pandas DataFrame named `savings_df`, and then display this DataFrame. The function to create the DataFrame should take the following three parameters:\n",
    "\n",
    "    - `savings_data`: Use the list that you just created.\n",
    "\n",
    "    - `columns`: Set this parameter equal to a Python list with a single value called `amount`.\n",
    "\n",
    "    - `index`: Set this parameter equal to a Python list with the values of `crypto` and `stock/bond`.\n",
    "\n",
    "3. Use the `savings_df` DataFrame to plot a pie chart that visualizes the composition of the member’s portfolio. The y-axis of the pie chart uses `amount`. Be sure to add a title.\n",
    "\n",
    "4. Using Python, determine if the current portfolio has enough to create an emergency fund as part of the member’s financial plan. Ideally, an emergency fund should equal to three times the member’s monthly income. To do this, implement the following steps:\n",
    "\n",
    "    1. Create a variable named `emergency_fund_value`, and set it equal to three times the value of the member’s `monthly_income` of $12000. (You set this earlier in Part 1).\n",
    "\n",
    "    2. Create a series of three if statements to determine if the member’s total portfolio is large enough to fund the emergency portfolio:\n",
    "\n",
    "        1. If the total portfolio value is greater than the emergency fund value, display a message congratulating the member for having enough money in this fund.\n",
    "\n",
    "        2. Else if the total portfolio value is equal to the emergency fund value, display a message congratulating the member on reaching this important financial goal.\n",
    "\n",
    "        3. Else the total portfolio is less than the emergency fund value, so display a message showing how many dollars away the member is from reaching the goal. (Subtract the total portfolio value from the emergency fund value.)\n"
   ]
  },
  {
   "cell_type": "markdown",
   "metadata": {},
   "source": [
    "#### Step 1: Create a Python list named `savings_data` that has two elements. The first element contains the total value of the cryptocurrency wallet. The second element contains the total value of the stock and bond portions of the portfolio."
   ]
  },
  {
   "cell_type": "code",
   "execution_count": 23,
   "metadata": {},
   "outputs": [
    {
     "data": {
      "text/plain": [
       "[60589.428, 71568.4]"
      ]
     },
     "execution_count": 23,
     "metadata": {},
     "output_type": "execute_result"
    }
   ],
   "source": [
    "# Consolidate financial assets data into a Python list\n",
    "savings_data = [total_crypto_wallet, total_stocks_bonds]\n",
    "\n",
    "# Review the Python list savings_data\n",
    "savings_data\n",
    "    "
   ]
  },
  {
   "cell_type": "markdown",
   "metadata": {},
   "source": [
    "#### Step 2: Use the `savings_data` list to create a Pandas DataFrame named `savings_df`, and then display this DataFrame. The function to create the DataFrame should take the following three parameters:\n",
    "\n",
    "- `savings_data`: Use the list that you just created.\n",
    "\n",
    "- `columns`: Set this parameter equal to a Python list with a single value called `amount`.\n",
    "\n",
    "- `index`: Set this parameter equal to a Python list with the values of `crypto` and `stock/bond`.\n"
   ]
  },
  {
   "cell_type": "code",
   "execution_count": 24,
   "metadata": {},
   "outputs": [
    {
     "data": {
      "text/html": [
       "<div>\n",
       "<style scoped>\n",
       "    .dataframe tbody tr th:only-of-type {\n",
       "        vertical-align: middle;\n",
       "    }\n",
       "\n",
       "    .dataframe tbody tr th {\n",
       "        vertical-align: top;\n",
       "    }\n",
       "\n",
       "    .dataframe thead th {\n",
       "        text-align: right;\n",
       "    }\n",
       "</style>\n",
       "<table border=\"1\" class=\"dataframe\">\n",
       "  <thead>\n",
       "    <tr style=\"text-align: right;\">\n",
       "      <th></th>\n",
       "      <th>amount</th>\n",
       "    </tr>\n",
       "  </thead>\n",
       "  <tbody>\n",
       "    <tr>\n",
       "      <th>crypto</th>\n",
       "      <td>60589.428</td>\n",
       "    </tr>\n",
       "    <tr>\n",
       "      <th>stock/bond</th>\n",
       "      <td>71568.400</td>\n",
       "    </tr>\n",
       "  </tbody>\n",
       "</table>\n",
       "</div>"
      ],
      "text/plain": [
       "               amount\n",
       "crypto      60589.428\n",
       "stock/bond  71568.400"
      ]
     },
     "execution_count": 24,
     "metadata": {},
     "output_type": "execute_result"
    }
   ],
   "source": [
    "# Create a Pandas DataFrame called savings_df \n",
    "savings_df = pd.DataFrame(savings_data, columns=[\"amount\"],index=[\"crypto\", \"stock/bond\"])\n",
    "\n",
    "# Display the savings_df DataFrame\n",
    "savings_df\n"
   ]
  },
  {
   "cell_type": "markdown",
   "metadata": {},
   "source": [
    "#### Step 3: Use the `savings_df` DataFrame to plot a pie chart that visualizes the composition of the member’s portfolio. The y-axis of the pie chart uses `amount`. Be sure to add a title."
   ]
  },
  {
   "cell_type": "code",
   "execution_count": 32,
   "metadata": {},
   "outputs": [
    {
     "data": {
      "text/plain": [
       "array([<AxesSubplot:ylabel='amount'>], dtype=object)"
      ]
     },
     "execution_count": 32,
     "metadata": {},
     "output_type": "execute_result"
    },
    {
     "data": {
      "image/png": "[encoded data removed]",
      "text/plain": [
       "<Figure size 432x288 with 1 Axes>"
      ]
     },
     "metadata": {},
     "output_type": "display_data"
    }
   ],
   "source": [
    "# Plot the total value of the member's portfolio (crypto and stock/bond) in a pie chart\n",
    "savings_df.plot.pie(title=\"Portfolio Summary\", subplots=True)\n"
   ]
  },
  {
   "cell_type": "markdown",
   "metadata": {},
   "source": [
    "#### Step 4: Using Python, determine if the current portfolio has enough to create an emergency fund as part of the member’s financial plan. Ideally, an emergency fund should equal to three times the member’s monthly income. To do this, implement the following steps:\n",
    "\n",
    "Step 1. Create a variable named `emergency_fund_value`, and set it equal to three times the value of the member’s `monthly_income` of 12000. (You set this earlier in Part 1).\n",
    "\n",
    "Step 2. Create a series of three if statements to determine if the member’s total portfolio is large enough to fund the emergency portfolio:\n",
    "\n",
    "* If the total portfolio value is greater than the emergency fund value, display a message congratulating the member for having enough money in this fund.\n",
    "\n",
    "* Else if the total portfolio value is equal to the emergency fund value, display a message congratulating the member on reaching this important financial goal.\n",
    "\n",
    "* Else the total portfolio is less than the emergency fund value, so display a message showing how many dollars away the member is from reaching the goal. (Subtract the total portfolio value from the emergency fund value.)\n"
   ]
  },
  {
   "cell_type": "markdown",
   "metadata": {},
   "source": [
    "##### Step 4-1: Create a variable named `emergency_fund_value`, and set it equal to three times the value of the member’s `monthly_income` of 12000. (You set this earlier in Part 1)."
   ]
  },
  {
   "cell_type": "code",
   "execution_count": 33,
   "metadata": {},
   "outputs": [],
   "source": [
    "# Create a variable named emergency_fund_value\n",
    "emergency_fund_value = monthly_income * 3\n"
   ]
  },
  {
   "cell_type": "markdown",
   "metadata": {},
   "source": [
    "##### Step 4-2: Create a series of three if statements to determine if the member’s total portfolio is large enough to fund the emergency portfolio:\n",
    "\n",
    "* If the total portfolio value is greater than the emergency fund value, display a message congratulating the member for having enough money in this fund.\n",
    "\n",
    "* Else if the total portfolio value is equal to the emergency fund value, display a message congratulating the member on reaching this important financial goal.\n",
    "\n",
    "* Else the total portfolio is less than the emergency fund value, so display a message showing how many dollars away the member is from reaching the goal. (Subtract the total portfolio value from the emergency fund value.)"
   ]
  },
  {
   "cell_type": "code",
   "execution_count": 41,
   "metadata": {},
   "outputs": [
    {
     "name": "stdout",
     "output_type": "stream",
     "text": [
      "Congratulations, your account is $96157.83 over the recommended amount!\n"
     ]
    }
   ],
   "source": [
    "# Evaluate the possibility of creating an emergency fund with 3 conditions:\n",
    "if total_portfolio > emergency_fund_value:\n",
    "    print(f\"Congratulations, your account is ${total_portfolio - emergency_fund_value :.02f} over the recommended amount!\")\n",
    "elif total_portfolio == emergency_fund_value:\n",
    "        print(\"Congratulations, you have exactly the recommended amount in your account!\")\n",
    "elif total_portfolio < emergency_fund_value:\n",
    "        print(f\"Your account is ${emergency_fund_value - total_portfolio :.02f} under the recommended amount.\")\n",
    "# YOUR CODE HERE\n",
    "# YOUR CODE HERE\n"
   ]
  },
  {
   "cell_type": "markdown",
   "metadata": {},
   "source": [
    "## Part 2: Create a Financial Planner for Retirement"
   ]
  },
  {
   "cell_type": "markdown",
   "metadata": {},
   "source": [
    "### Create the Monte Carlo Simulation\n",
    "\n",
    "In this section, you’ll use the MCForecastTools library to create a Monte Carlo simulation for the member’s savings portfolio. To do this, complete the following steps:\n",
    "\n",
    "1. Make an API call via the Alpaca SDK to get 10 years of historical closing prices for a traditional 60/40 portfolio split: 60% stocks (SPY) and 40% bonds (AGG).\n",
    "\n",
    "2. Run a Monte Carlo simulation of 500 samples and 30 years for the 60/40 portfolio, and then plot the results.The following image shows the overlay line plot resulting from a simulation with these characteristics. However, because a random number generator is used to run each live Monte Carlo simulation, your image will differ slightly from this exact image:\n",
    "\n",
    "![A screenshot depicts the resulting plot.](Images/5-4-monte-carlo-line-plot.png)\n",
    "\n",
    "3. Plot the probability distribution of the Monte Carlo simulation. Plot the probability distribution of the Monte Carlo simulation. The following image shows the histogram plot resulting from a simulation with these characteristics. However, because a random number generator is used to run each live Monte Carlo simulation, your image will differ slightly from this exact image:\n",
    "\n",
    "![A screenshot depicts the histogram plot.](Images/5-4-monte-carlo-histogram.png)\n",
    "\n",
    "4. Generate the summary statistics for the Monte Carlo simulation.\n",
    "\n"
   ]
  },
  {
   "cell_type": "markdown",
   "metadata": {},
   "source": [
    "#### Step 1: Make an API call via the Alpaca SDK to get 10 years of historical closing prices for a traditional 60/40 portfolio split: 60% stocks (SPY) and 40% bonds (AGG)."
   ]
  },
  {
   "cell_type": "code",
   "execution_count": 191,
   "metadata": {},
   "outputs": [
    {
     "data": {
      "text/plain": [
       "'2018-11-02T00:00:00-07:00'"
      ]
     },
     "execution_count": 191,
     "metadata": {},
     "output_type": "execute_result"
    }
   ],
   "source": [
    "# Set start and end dates of 10 years back from your current date\n",
    "# Alternatively, you can use an end date of 2020-08-07 and work 10 years back from that date \n",
    "# yesterday_iso = pd.Timestamp(yesterday, tz= \"America/Los_Angeles\").isoformat()\n",
    "start_date_mc = today_iso\n",
    "# # YOUR CODE HERE\n",
    "first_end_date_mc = datetime.datetime.now() - datetime.timedelta(days=1000)\n",
    "first_end_date = str(first_end_date_mc).split()[0]\n",
    "first_end_date = pd.Timestamp(first_end_date, tz=\"America/Los_Angeles\").isoformat()\n",
    "first_end_date"
   ]
  },
  {
   "cell_type": "code",
   "execution_count": 158,
   "metadata": {},
   "outputs": [
    {
     "data": {
      "text/plain": [
       "'2016-02-06T00:00:00-08:00'"
      ]
     },
     "execution_count": 158,
     "metadata": {},
     "output_type": "execute_result"
    }
   ],
   "source": [
    "sec_end_date_mc = first_end_date_mc - datetime.timedelta(days=1000)\n",
    "sec_end_date = str(sec_end_date_mc).split()[0]\n",
    "sec_end_date = pd.Timestamp(sec_end_date, tz= \"America/Los_Angeles\").isoformat()\n",
    "sec_end_date"
   ]
  },
  {
   "cell_type": "code",
   "execution_count": 162,
   "metadata": {},
   "outputs": [
    {
     "data": {
      "text/plain": [
       "'2013-05-12T00:00:00-07:00'"
      ]
     },
     "execution_count": 162,
     "metadata": {},
     "output_type": "execute_result"
    }
   ],
   "source": [
    "third_end_date_mc = sec_end_date_mc - datetime.timedelta(days=1000)\n",
    "third_end_date = str(third_end_date_mc).split()[0]\n",
    "third_end_date = pd.Timestamp(third_end_date, tz=\"America/Los_Angeles\").isoformat()\n",
    "third_end_date"
   ]
  },
  {
   "cell_type": "code",
   "execution_count": 163,
   "metadata": {},
   "outputs": [
    {
     "data": {
      "text/plain": [
       "'2011-07-29T00:00:00-07:00'"
      ]
     },
     "execution_count": 163,
     "metadata": {},
     "output_type": "execute_result"
    }
   ],
   "source": [
    "fourth_end_date_mc = third_end_date_mc - datetime.timedelta(days=653)\n",
    "fourth_end_date = str(fourth_end_date_mc).split()[0]\n",
    "fourth_end_date = pd.Timestamp(fourth_end_date, tz=\"America/Los_Angeles\").isoformat()\n",
    "fourth_end_date"
   ]
  },
  {
   "cell_type": "code",
   "execution_count": 194,
   "metadata": {},
   "outputs": [],
   "source": [
    "# Use the Alpaca get_barset function to make the API call to get the 10 years worth of pricing data\n",
    "# The tickers and timeframe parameters should have been set in Part 1 of this activity \n",
    "# The start and end dates should be updated with the information set above\n",
    "# Remember to add the df property to the end of the call so the response is returned as a DataFrame\n",
    "df_portfolio1 = alpaca.get_barset(\n",
    "    tickers,\n",
    "    timeframe,\n",
    "    limit=1000,\n",
    "    start = first_end_date,\n",
    "    end = start_date_mc\n",
    ").df"
   ]
  },
  {
   "cell_type": "code",
   "execution_count": 197,
   "metadata": {},
   "outputs": [
    {
     "data": {
      "text/html": [
       "<div>\n",
       "<style scoped>\n",
       "    .dataframe tbody tr th:only-of-type {\n",
       "        vertical-align: middle;\n",
       "    }\n",
       "\n",
       "    .dataframe tbody tr th {\n",
       "        vertical-align: top;\n",
       "    }\n",
       "\n",
       "    .dataframe thead tr th {\n",
       "        text-align: left;\n",
       "    }\n",
       "\n",
       "    .dataframe thead tr:last-of-type th {\n",
       "        text-align: right;\n",
       "    }\n",
       "</style>\n",
       "<table border=\"1\" class=\"dataframe\">\n",
       "  <thead>\n",
       "    <tr>\n",
       "      <th></th>\n",
       "      <th colspan=\"5\" halign=\"left\">AGG</th>\n",
       "      <th colspan=\"5\" halign=\"left\">SPY</th>\n",
       "    </tr>\n",
       "    <tr>\n",
       "      <th></th>\n",
       "      <th>open</th>\n",
       "      <th>high</th>\n",
       "      <th>low</th>\n",
       "      <th>close</th>\n",
       "      <th>volume</th>\n",
       "      <th>open</th>\n",
       "      <th>high</th>\n",
       "      <th>low</th>\n",
       "      <th>close</th>\n",
       "      <th>volume</th>\n",
       "    </tr>\n",
       "    <tr>\n",
       "      <th>time</th>\n",
       "      <th></th>\n",
       "      <th></th>\n",
       "      <th></th>\n",
       "      <th></th>\n",
       "      <th></th>\n",
       "      <th></th>\n",
       "      <th></th>\n",
       "      <th></th>\n",
       "      <th></th>\n",
       "      <th></th>\n",
       "    </tr>\n",
       "  </thead>\n",
       "  <tbody>\n",
       "    <tr>\n",
       "      <th>2018-11-02 00:00:00-04:00</th>\n",
       "      <td>104.25</td>\n",
       "      <td>104.2900</td>\n",
       "      <td>103.9400</td>\n",
       "      <td>104.010</td>\n",
       "      <td>4207916.0</td>\n",
       "      <td>274.74</td>\n",
       "      <td>275.23</td>\n",
       "      <td>269.5900</td>\n",
       "      <td>271.80</td>\n",
       "      <td>93545041</td>\n",
       "    </tr>\n",
       "    <tr>\n",
       "      <th>2018-11-05 00:00:00-05:00</th>\n",
       "      <td>104.14</td>\n",
       "      <td>104.1700</td>\n",
       "      <td>104.0700</td>\n",
       "      <td>104.090</td>\n",
       "      <td>2912736.0</td>\n",
       "      <td>272.44</td>\n",
       "      <td>274.01</td>\n",
       "      <td>271.3500</td>\n",
       "      <td>273.38</td>\n",
       "      <td>55157537</td>\n",
       "    </tr>\n",
       "    <tr>\n",
       "      <th>2018-11-06 00:00:00-05:00</th>\n",
       "      <td>104.09</td>\n",
       "      <td>104.1699</td>\n",
       "      <td>104.0635</td>\n",
       "      <td>104.100</td>\n",
       "      <td>2442244.0</td>\n",
       "      <td>273.32</td>\n",
       "      <td>275.30</td>\n",
       "      <td>273.2500</td>\n",
       "      <td>275.12</td>\n",
       "      <td>49731823</td>\n",
       "    </tr>\n",
       "    <tr>\n",
       "      <th>2018-11-07 00:00:00-05:00</th>\n",
       "      <td>104.25</td>\n",
       "      <td>104.3600</td>\n",
       "      <td>104.1400</td>\n",
       "      <td>104.195</td>\n",
       "      <td>4613710.0</td>\n",
       "      <td>277.56</td>\n",
       "      <td>281.10</td>\n",
       "      <td>275.1398</td>\n",
       "      <td>280.91</td>\n",
       "      <td>84960994</td>\n",
       "    </tr>\n",
       "    <tr>\n",
       "      <th>2018-11-08 00:00:00-05:00</th>\n",
       "      <td>104.19</td>\n",
       "      <td>104.2200</td>\n",
       "      <td>104.0000</td>\n",
       "      <td>104.005</td>\n",
       "      <td>2921802.0</td>\n",
       "      <td>280.14</td>\n",
       "      <td>281.22</td>\n",
       "      <td>279.2200</td>\n",
       "      <td>280.44</td>\n",
       "      <td>49392193</td>\n",
       "    </tr>\n",
       "    <tr>\n",
       "      <th>...</th>\n",
       "      <td>...</td>\n",
       "      <td>...</td>\n",
       "      <td>...</td>\n",
       "      <td>...</td>\n",
       "      <td>...</td>\n",
       "      <td>...</td>\n",
       "      <td>...</td>\n",
       "      <td>...</td>\n",
       "      <td>...</td>\n",
       "      <td>...</td>\n",
       "    </tr>\n",
       "    <tr>\n",
       "      <th>2021-07-23 00:00:00-04:00</th>\n",
       "      <td>116.03</td>\n",
       "      <td>116.2200</td>\n",
       "      <td>116.0300</td>\n",
       "      <td>116.210</td>\n",
       "      <td>4137100.0</td>\n",
       "      <td>437.53</td>\n",
       "      <td>440.30</td>\n",
       "      <td>436.7900</td>\n",
       "      <td>439.90</td>\n",
       "      <td>53294703</td>\n",
       "    </tr>\n",
       "    <tr>\n",
       "      <th>2021-07-26 00:00:00-04:00</th>\n",
       "      <td>116.30</td>\n",
       "      <td>116.3300</td>\n",
       "      <td>116.0850</td>\n",
       "      <td>116.110</td>\n",
       "      <td>7028009.0</td>\n",
       "      <td>439.31</td>\n",
       "      <td>441.03</td>\n",
       "      <td>439.2600</td>\n",
       "      <td>440.99</td>\n",
       "      <td>40155852</td>\n",
       "    </tr>\n",
       "    <tr>\n",
       "      <th>2021-07-27 00:00:00-04:00</th>\n",
       "      <td>116.35</td>\n",
       "      <td>116.4000</td>\n",
       "      <td>116.2727</td>\n",
       "      <td>116.390</td>\n",
       "      <td>4669859.0</td>\n",
       "      <td>439.91</td>\n",
       "      <td>439.94</td>\n",
       "      <td>435.9900</td>\n",
       "      <td>439.00</td>\n",
       "      <td>61032234</td>\n",
       "    </tr>\n",
       "    <tr>\n",
       "      <th>2021-07-28 00:00:00-04:00</th>\n",
       "      <td>116.24</td>\n",
       "      <td>116.4900</td>\n",
       "      <td>116.1400</td>\n",
       "      <td>116.480</td>\n",
       "      <td>5189696.0</td>\n",
       "      <td>439.68</td>\n",
       "      <td>440.30</td>\n",
       "      <td>437.3100</td>\n",
       "      <td>438.84</td>\n",
       "      <td>47642330</td>\n",
       "    </tr>\n",
       "    <tr>\n",
       "      <th>2021-07-29 00:00:00-04:00</th>\n",
       "      <td>116.29</td>\n",
       "      <td>116.3600</td>\n",
       "      <td>116.2250</td>\n",
       "      <td>116.280</td>\n",
       "      <td>5216456.0</td>\n",
       "      <td>439.83</td>\n",
       "      <td>441.80</td>\n",
       "      <td>439.8100</td>\n",
       "      <td>440.67</td>\n",
       "      <td>40930880</td>\n",
       "    </tr>\n",
       "  </tbody>\n",
       "</table>\n",
       "<p>688 rows × 10 columns</p>\n",
       "</div>"
      ],
      "text/plain": [
       "                              AGG                                          \\\n",
       "                             open      high       low    close     volume   \n",
       "time                                                                        \n",
       "2018-11-02 00:00:00-04:00  104.25  104.2900  103.9400  104.010  4207916.0   \n",
       "2018-11-05 00:00:00-05:00  104.14  104.1700  104.0700  104.090  2912736.0   \n",
       "2018-11-06 00:00:00-05:00  104.09  104.1699  104.0635  104.100  2442244.0   \n",
       "2018-11-07 00:00:00-05:00  104.25  104.3600  104.1400  104.195  4613710.0   \n",
       "2018-11-08 00:00:00-05:00  104.19  104.2200  104.0000  104.005  2921802.0   \n",
       "...                           ...       ...       ...      ...        ...   \n",
       "2021-07-23 00:00:00-04:00  116.03  116.2200  116.0300  116.210  4137100.0   \n",
       "2021-07-26 00:00:00-04:00  116.30  116.3300  116.0850  116.110  7028009.0   \n",
       "2021-07-27 00:00:00-04:00  116.35  116.4000  116.2727  116.390  4669859.0   \n",
       "2021-07-28 00:00:00-04:00  116.24  116.4900  116.1400  116.480  5189696.0   \n",
       "2021-07-29 00:00:00-04:00  116.29  116.3600  116.2250  116.280  5216456.0   \n",
       "\n",
       "                              SPY                                      \n",
       "                             open    high       low   close    volume  \n",
       "time                                                                   \n",
       "2018-11-02 00:00:00-04:00  274.74  275.23  269.5900  271.80  93545041  \n",
       "2018-11-05 00:00:00-05:00  272.44  274.01  271.3500  273.38  55157537  \n",
       "2018-11-06 00:00:00-05:00  273.32  275.30  273.2500  275.12  49731823  \n",
       "2018-11-07 00:00:00-05:00  277.56  281.10  275.1398  280.91  84960994  \n",
       "2018-11-08 00:00:00-05:00  280.14  281.22  279.2200  280.44  49392193  \n",
       "...                           ...     ...       ...     ...       ...  \n",
       "2021-07-23 00:00:00-04:00  437.53  440.30  436.7900  439.90  53294703  \n",
       "2021-07-26 00:00:00-04:00  439.31  441.03  439.2600  440.99  40155852  \n",
       "2021-07-27 00:00:00-04:00  439.91  439.94  435.9900  439.00  61032234  \n",
       "2021-07-28 00:00:00-04:00  439.68  440.30  437.3100  438.84  47642330  \n",
       "2021-07-29 00:00:00-04:00  439.83  441.80  439.8100  440.67  40930880  \n",
       "\n",
       "[688 rows x 10 columns]"
      ]
     },
     "execution_count": 197,
     "metadata": {},
     "output_type": "execute_result"
    }
   ],
   "source": [
    "# Display both the first and last five rows of the DataFrame\n",
    "df_portfolio1\n",
    "# YOUR CODE HERE"
   ]
  },
  {
   "cell_type": "code",
   "execution_count": 161,
   "metadata": {},
   "outputs": [
    {
     "data": {
      "text/html": [
       "<div>\n",
       "<style scoped>\n",
       "    .dataframe tbody tr th:only-of-type {\n",
       "        vertical-align: middle;\n",
       "    }\n",
       "\n",
       "    .dataframe tbody tr th {\n",
       "        vertical-align: top;\n",
       "    }\n",
       "\n",
       "    .dataframe thead tr th {\n",
       "        text-align: left;\n",
       "    }\n",
       "\n",
       "    .dataframe thead tr:last-of-type th {\n",
       "        text-align: right;\n",
       "    }\n",
       "</style>\n",
       "<table border=\"1\" class=\"dataframe\">\n",
       "  <thead>\n",
       "    <tr>\n",
       "      <th></th>\n",
       "      <th colspan=\"5\" halign=\"left\">AGG</th>\n",
       "      <th colspan=\"5\" halign=\"left\">SPY</th>\n",
       "    </tr>\n",
       "    <tr>\n",
       "      <th></th>\n",
       "      <th>open</th>\n",
       "      <th>high</th>\n",
       "      <th>low</th>\n",
       "      <th>close</th>\n",
       "      <th>volume</th>\n",
       "      <th>open</th>\n",
       "      <th>high</th>\n",
       "      <th>low</th>\n",
       "      <th>close</th>\n",
       "      <th>volume</th>\n",
       "    </tr>\n",
       "    <tr>\n",
       "      <th>time</th>\n",
       "      <th></th>\n",
       "      <th></th>\n",
       "      <th></th>\n",
       "      <th></th>\n",
       "      <th></th>\n",
       "      <th></th>\n",
       "      <th></th>\n",
       "      <th></th>\n",
       "      <th></th>\n",
       "      <th></th>\n",
       "    </tr>\n",
       "  </thead>\n",
       "  <tbody>\n",
       "    <tr>\n",
       "      <th>2016-02-08 00:00:00-05:00</th>\n",
       "      <td>109.52</td>\n",
       "      <td>109.870</td>\n",
       "      <td>109.500</td>\n",
       "      <td>109.75</td>\n",
       "      <td>2569522</td>\n",
       "      <td>185.77</td>\n",
       "      <td>186.12</td>\n",
       "      <td>182.80</td>\n",
       "      <td>185.37</td>\n",
       "      <td>165295833</td>\n",
       "    </tr>\n",
       "    <tr>\n",
       "      <th>2016-02-09 00:00:00-05:00</th>\n",
       "      <td>109.92</td>\n",
       "      <td>109.930</td>\n",
       "      <td>109.660</td>\n",
       "      <td>109.74</td>\n",
       "      <td>2861093</td>\n",
       "      <td>183.37</td>\n",
       "      <td>186.94</td>\n",
       "      <td>183.20</td>\n",
       "      <td>185.38</td>\n",
       "      <td>155558096</td>\n",
       "    </tr>\n",
       "    <tr>\n",
       "      <th>2016-02-10 00:00:00-05:00</th>\n",
       "      <td>109.82</td>\n",
       "      <td>109.990</td>\n",
       "      <td>109.600</td>\n",
       "      <td>109.98</td>\n",
       "      <td>2046967</td>\n",
       "      <td>186.41</td>\n",
       "      <td>188.34</td>\n",
       "      <td>185.12</td>\n",
       "      <td>185.29</td>\n",
       "      <td>125014552</td>\n",
       "    </tr>\n",
       "    <tr>\n",
       "      <th>2016-02-11 00:00:00-05:00</th>\n",
       "      <td>110.33</td>\n",
       "      <td>110.499</td>\n",
       "      <td>110.010</td>\n",
       "      <td>110.08</td>\n",
       "      <td>2686575</td>\n",
       "      <td>182.34</td>\n",
       "      <td>184.10</td>\n",
       "      <td>181.09</td>\n",
       "      <td>183.06</td>\n",
       "      <td>176537848</td>\n",
       "    </tr>\n",
       "    <tr>\n",
       "      <th>2016-02-12 00:00:00-05:00</th>\n",
       "      <td>109.92</td>\n",
       "      <td>109.960</td>\n",
       "      <td>109.545</td>\n",
       "      <td>109.76</td>\n",
       "      <td>2640547</td>\n",
       "      <td>184.98</td>\n",
       "      <td>186.65</td>\n",
       "      <td>183.96</td>\n",
       "      <td>186.64</td>\n",
       "      <td>102758219</td>\n",
       "    </tr>\n",
       "    <tr>\n",
       "      <th>...</th>\n",
       "      <td>...</td>\n",
       "      <td>...</td>\n",
       "      <td>...</td>\n",
       "      <td>...</td>\n",
       "      <td>...</td>\n",
       "      <td>...</td>\n",
       "      <td>...</td>\n",
       "      <td>...</td>\n",
       "      <td>...</td>\n",
       "      <td>...</td>\n",
       "    </tr>\n",
       "    <tr>\n",
       "      <th>2018-10-29 00:00:00-04:00</th>\n",
       "      <td>104.86</td>\n",
       "      <td>104.890</td>\n",
       "      <td>104.720</td>\n",
       "      <td>104.79</td>\n",
       "      <td>3599179</td>\n",
       "      <td>268.78</td>\n",
       "      <td>270.25</td>\n",
       "      <td>259.85</td>\n",
       "      <td>263.80</td>\n",
       "      <td>120705901</td>\n",
       "    </tr>\n",
       "    <tr>\n",
       "      <th>2018-10-30 00:00:00-04:00</th>\n",
       "      <td>104.68</td>\n",
       "      <td>104.780</td>\n",
       "      <td>104.640</td>\n",
       "      <td>104.65</td>\n",
       "      <td>2246561</td>\n",
       "      <td>263.67</td>\n",
       "      <td>268.12</td>\n",
       "      <td>263.12</td>\n",
       "      <td>267.81</td>\n",
       "      <td>122643325</td>\n",
       "    </tr>\n",
       "    <tr>\n",
       "      <th>2018-10-31 00:00:00-04:00</th>\n",
       "      <td>104.50</td>\n",
       "      <td>104.700</td>\n",
       "      <td>104.500</td>\n",
       "      <td>104.58</td>\n",
       "      <td>11670445</td>\n",
       "      <td>270.65</td>\n",
       "      <td>273.23</td>\n",
       "      <td>270.12</td>\n",
       "      <td>270.69</td>\n",
       "      <td>97427146</td>\n",
       "    </tr>\n",
       "    <tr>\n",
       "      <th>2018-11-01 00:00:00-04:00</th>\n",
       "      <td>104.22</td>\n",
       "      <td>104.410</td>\n",
       "      <td>104.210</td>\n",
       "      <td>104.35</td>\n",
       "      <td>6974347</td>\n",
       "      <td>271.62</td>\n",
       "      <td>273.73</td>\n",
       "      <td>270.38</td>\n",
       "      <td>273.51</td>\n",
       "      <td>72100016</td>\n",
       "    </tr>\n",
       "    <tr>\n",
       "      <th>2018-11-02 00:00:00-04:00</th>\n",
       "      <td>104.25</td>\n",
       "      <td>104.290</td>\n",
       "      <td>103.940</td>\n",
       "      <td>104.01</td>\n",
       "      <td>4207916</td>\n",
       "      <td>274.74</td>\n",
       "      <td>275.23</td>\n",
       "      <td>269.59</td>\n",
       "      <td>271.80</td>\n",
       "      <td>93545041</td>\n",
       "    </tr>\n",
       "  </tbody>\n",
       "</table>\n",
       "<p>692 rows × 10 columns</p>\n",
       "</div>"
      ],
      "text/plain": [
       "                              AGG                                         SPY  \\\n",
       "                             open     high      low   close    volume    open   \n",
       "time                                                                            \n",
       "2016-02-08 00:00:00-05:00  109.52  109.870  109.500  109.75   2569522  185.77   \n",
       "2016-02-09 00:00:00-05:00  109.92  109.930  109.660  109.74   2861093  183.37   \n",
       "2016-02-10 00:00:00-05:00  109.82  109.990  109.600  109.98   2046967  186.41   \n",
       "2016-02-11 00:00:00-05:00  110.33  110.499  110.010  110.08   2686575  182.34   \n",
       "2016-02-12 00:00:00-05:00  109.92  109.960  109.545  109.76   2640547  184.98   \n",
       "...                           ...      ...      ...     ...       ...     ...   \n",
       "2018-10-29 00:00:00-04:00  104.86  104.890  104.720  104.79   3599179  268.78   \n",
       "2018-10-30 00:00:00-04:00  104.68  104.780  104.640  104.65   2246561  263.67   \n",
       "2018-10-31 00:00:00-04:00  104.50  104.700  104.500  104.58  11670445  270.65   \n",
       "2018-11-01 00:00:00-04:00  104.22  104.410  104.210  104.35   6974347  271.62   \n",
       "2018-11-02 00:00:00-04:00  104.25  104.290  103.940  104.01   4207916  274.74   \n",
       "\n",
       "                                                              \n",
       "                             high     low   close     volume  \n",
       "time                                                          \n",
       "2016-02-08 00:00:00-05:00  186.12  182.80  185.37  165295833  \n",
       "2016-02-09 00:00:00-05:00  186.94  183.20  185.38  155558096  \n",
       "2016-02-10 00:00:00-05:00  188.34  185.12  185.29  125014552  \n",
       "2016-02-11 00:00:00-05:00  184.10  181.09  183.06  176537848  \n",
       "2016-02-12 00:00:00-05:00  186.65  183.96  186.64  102758219  \n",
       "...                           ...     ...     ...        ...  \n",
       "2018-10-29 00:00:00-04:00  270.25  259.85  263.80  120705901  \n",
       "2018-10-30 00:00:00-04:00  268.12  263.12  267.81  122643325  \n",
       "2018-10-31 00:00:00-04:00  273.23  270.12  270.69   97427146  \n",
       "2018-11-01 00:00:00-04:00  273.73  270.38  273.51   72100016  \n",
       "2018-11-02 00:00:00-04:00  275.23  269.59  271.80   93545041  \n",
       "\n",
       "[692 rows x 10 columns]"
      ]
     },
     "execution_count": 161,
     "metadata": {},
     "output_type": "execute_result"
    }
   ],
   "source": [
    "df_portfolio2 = alpaca.get_barset(\n",
    "    tickers,\n",
    "    timeframe,\n",
    "    limit=1000,\n",
    "    start = sec_end_date,\n",
    "    end = first_end_date\n",
    ").df\n",
    "df_portfolio2"
   ]
  },
  {
   "cell_type": "code",
   "execution_count": 165,
   "metadata": {},
   "outputs": [
    {
     "data": {
      "text/html": [
       "<div>\n",
       "<style scoped>\n",
       "    .dataframe tbody tr th:only-of-type {\n",
       "        vertical-align: middle;\n",
       "    }\n",
       "\n",
       "    .dataframe tbody tr th {\n",
       "        vertical-align: top;\n",
       "    }\n",
       "\n",
       "    .dataframe thead tr th {\n",
       "        text-align: left;\n",
       "    }\n",
       "\n",
       "    .dataframe thead tr:last-of-type th {\n",
       "        text-align: right;\n",
       "    }\n",
       "</style>\n",
       "<table border=\"1\" class=\"dataframe\">\n",
       "  <thead>\n",
       "    <tr>\n",
       "      <th></th>\n",
       "      <th colspan=\"5\" halign=\"left\">AGG</th>\n",
       "      <th colspan=\"5\" halign=\"left\">SPY</th>\n",
       "    </tr>\n",
       "    <tr>\n",
       "      <th></th>\n",
       "      <th>open</th>\n",
       "      <th>high</th>\n",
       "      <th>low</th>\n",
       "      <th>close</th>\n",
       "      <th>volume</th>\n",
       "      <th>open</th>\n",
       "      <th>high</th>\n",
       "      <th>low</th>\n",
       "      <th>close</th>\n",
       "      <th>volume</th>\n",
       "    </tr>\n",
       "    <tr>\n",
       "      <th>time</th>\n",
       "      <th></th>\n",
       "      <th></th>\n",
       "      <th></th>\n",
       "      <th></th>\n",
       "      <th></th>\n",
       "      <th></th>\n",
       "      <th></th>\n",
       "      <th></th>\n",
       "      <th></th>\n",
       "      <th></th>\n",
       "    </tr>\n",
       "  </thead>\n",
       "  <tbody>\n",
       "    <tr>\n",
       "      <th>2013-05-13 00:00:00-04:00</th>\n",
       "      <td>110.35</td>\n",
       "      <td>110.39</td>\n",
       "      <td>110.2900</td>\n",
       "      <td>110.34</td>\n",
       "      <td>505570</td>\n",
       "      <td>163.20</td>\n",
       "      <td>163.81</td>\n",
       "      <td>162.82</td>\n",
       "      <td>163.54</td>\n",
       "      <td>66015920</td>\n",
       "    </tr>\n",
       "    <tr>\n",
       "      <th>2013-05-14 00:00:00-04:00</th>\n",
       "      <td>110.38</td>\n",
       "      <td>110.45</td>\n",
       "      <td>110.1200</td>\n",
       "      <td>110.15</td>\n",
       "      <td>822859</td>\n",
       "      <td>163.67</td>\n",
       "      <td>165.35</td>\n",
       "      <td>163.67</td>\n",
       "      <td>165.27</td>\n",
       "      <td>89321877</td>\n",
       "    </tr>\n",
       "    <tr>\n",
       "      <th>2013-05-15 00:00:00-04:00</th>\n",
       "      <td>110.27</td>\n",
       "      <td>110.32</td>\n",
       "      <td>110.1000</td>\n",
       "      <td>110.27</td>\n",
       "      <td>826100</td>\n",
       "      <td>164.96</td>\n",
       "      <td>166.45</td>\n",
       "      <td>164.91</td>\n",
       "      <td>166.10</td>\n",
       "      <td>97466123</td>\n",
       "    </tr>\n",
       "    <tr>\n",
       "      <th>2013-05-16 00:00:00-04:00</th>\n",
       "      <td>110.36</td>\n",
       "      <td>110.58</td>\n",
       "      <td>110.3600</td>\n",
       "      <td>110.57</td>\n",
       "      <td>1009562</td>\n",
       "      <td>165.77</td>\n",
       "      <td>166.36</td>\n",
       "      <td>165.09</td>\n",
       "      <td>165.31</td>\n",
       "      <td>88283474</td>\n",
       "    </tr>\n",
       "    <tr>\n",
       "      <th>2013-05-17 00:00:00-04:00</th>\n",
       "      <td>110.50</td>\n",
       "      <td>110.51</td>\n",
       "      <td>110.2500</td>\n",
       "      <td>110.30</td>\n",
       "      <td>568038</td>\n",
       "      <td>165.95</td>\n",
       "      <td>167.04</td>\n",
       "      <td>165.73</td>\n",
       "      <td>166.97</td>\n",
       "      <td>100777007</td>\n",
       "    </tr>\n",
       "    <tr>\n",
       "      <th>...</th>\n",
       "      <td>...</td>\n",
       "      <td>...</td>\n",
       "      <td>...</td>\n",
       "      <td>...</td>\n",
       "      <td>...</td>\n",
       "      <td>...</td>\n",
       "      <td>...</td>\n",
       "      <td>...</td>\n",
       "      <td>...</td>\n",
       "      <td>...</td>\n",
       "    </tr>\n",
       "    <tr>\n",
       "      <th>2016-02-01 00:00:00-05:00</th>\n",
       "      <td>109.10</td>\n",
       "      <td>109.25</td>\n",
       "      <td>108.8415</td>\n",
       "      <td>108.97</td>\n",
       "      <td>4186126</td>\n",
       "      <td>192.53</td>\n",
       "      <td>194.58</td>\n",
       "      <td>191.84</td>\n",
       "      <td>193.69</td>\n",
       "      <td>98369142</td>\n",
       "    </tr>\n",
       "    <tr>\n",
       "      <th>2016-02-02 00:00:00-05:00</th>\n",
       "      <td>109.23</td>\n",
       "      <td>109.38</td>\n",
       "      <td>109.1301</td>\n",
       "      <td>109.33</td>\n",
       "      <td>4160559</td>\n",
       "      <td>191.96</td>\n",
       "      <td>191.97</td>\n",
       "      <td>189.54</td>\n",
       "      <td>190.13</td>\n",
       "      <td>128934910</td>\n",
       "    </tr>\n",
       "    <tr>\n",
       "      <th>2016-02-03 00:00:00-05:00</th>\n",
       "      <td>109.26</td>\n",
       "      <td>109.64</td>\n",
       "      <td>109.2000</td>\n",
       "      <td>109.29</td>\n",
       "      <td>3546260</td>\n",
       "      <td>191.41</td>\n",
       "      <td>191.78</td>\n",
       "      <td>187.10</td>\n",
       "      <td>191.19</td>\n",
       "      <td>182430296</td>\n",
       "    </tr>\n",
       "    <tr>\n",
       "      <th>2016-02-04 00:00:00-05:00</th>\n",
       "      <td>109.34</td>\n",
       "      <td>109.46</td>\n",
       "      <td>109.2350</td>\n",
       "      <td>109.40</td>\n",
       "      <td>1761807</td>\n",
       "      <td>190.71</td>\n",
       "      <td>192.75</td>\n",
       "      <td>189.96</td>\n",
       "      <td>191.55</td>\n",
       "      <td>120427508</td>\n",
       "    </tr>\n",
       "    <tr>\n",
       "      <th>2016-02-05 00:00:00-05:00</th>\n",
       "      <td>109.24</td>\n",
       "      <td>109.44</td>\n",
       "      <td>109.1532</td>\n",
       "      <td>109.31</td>\n",
       "      <td>2032871</td>\n",
       "      <td>190.99</td>\n",
       "      <td>191.08</td>\n",
       "      <td>187.20</td>\n",
       "      <td>187.95</td>\n",
       "      <td>141736013</td>\n",
       "    </tr>\n",
       "  </tbody>\n",
       "</table>\n",
       "<p>690 rows × 10 columns</p>\n",
       "</div>"
      ],
      "text/plain": [
       "                              AGG                                        SPY  \\\n",
       "                             open    high       low   close   volume    open   \n",
       "time                                                                           \n",
       "2013-05-13 00:00:00-04:00  110.35  110.39  110.2900  110.34   505570  163.20   \n",
       "2013-05-14 00:00:00-04:00  110.38  110.45  110.1200  110.15   822859  163.67   \n",
       "2013-05-15 00:00:00-04:00  110.27  110.32  110.1000  110.27   826100  164.96   \n",
       "2013-05-16 00:00:00-04:00  110.36  110.58  110.3600  110.57  1009562  165.77   \n",
       "2013-05-17 00:00:00-04:00  110.50  110.51  110.2500  110.30   568038  165.95   \n",
       "...                           ...     ...       ...     ...      ...     ...   \n",
       "2016-02-01 00:00:00-05:00  109.10  109.25  108.8415  108.97  4186126  192.53   \n",
       "2016-02-02 00:00:00-05:00  109.23  109.38  109.1301  109.33  4160559  191.96   \n",
       "2016-02-03 00:00:00-05:00  109.26  109.64  109.2000  109.29  3546260  191.41   \n",
       "2016-02-04 00:00:00-05:00  109.34  109.46  109.2350  109.40  1761807  190.71   \n",
       "2016-02-05 00:00:00-05:00  109.24  109.44  109.1532  109.31  2032871  190.99   \n",
       "\n",
       "                                                              \n",
       "                             high     low   close     volume  \n",
       "time                                                          \n",
       "2013-05-13 00:00:00-04:00  163.81  162.82  163.54   66015920  \n",
       "2013-05-14 00:00:00-04:00  165.35  163.67  165.27   89321877  \n",
       "2013-05-15 00:00:00-04:00  166.45  164.91  166.10   97466123  \n",
       "2013-05-16 00:00:00-04:00  166.36  165.09  165.31   88283474  \n",
       "2013-05-17 00:00:00-04:00  167.04  165.73  166.97  100777007  \n",
       "...                           ...     ...     ...        ...  \n",
       "2016-02-01 00:00:00-05:00  194.58  191.84  193.69   98369142  \n",
       "2016-02-02 00:00:00-05:00  191.97  189.54  190.13  128934910  \n",
       "2016-02-03 00:00:00-05:00  191.78  187.10  191.19  182430296  \n",
       "2016-02-04 00:00:00-05:00  192.75  189.96  191.55  120427508  \n",
       "2016-02-05 00:00:00-05:00  191.08  187.20  187.95  141736013  \n",
       "\n",
       "[690 rows x 10 columns]"
      ]
     },
     "execution_count": 165,
     "metadata": {},
     "output_type": "execute_result"
    }
   ],
   "source": [
    "df_portfolio3 = alpaca.get_barset(\n",
    "    tickers,\n",
    "    timeframe,\n",
    "    limit=1000,\n",
    "    start = third_end_date,\n",
    "    end = sec_end_date\n",
    ").df\n",
    "df_portfolio3"
   ]
  },
  {
   "cell_type": "markdown",
   "metadata": {},
   "source": [
    "#### Step 2: Run a Monte Carlo simulation of 500 samples and 30 years for the 60/40 portfolio, and then plot the results."
   ]
  },
  {
   "cell_type": "code",
   "execution_count": 172,
   "metadata": {},
   "outputs": [
    {
     "data": {
      "text/html": [
       "<div>\n",
       "<style scoped>\n",
       "    .dataframe tbody tr th:only-of-type {\n",
       "        vertical-align: middle;\n",
       "    }\n",
       "\n",
       "    .dataframe tbody tr th {\n",
       "        vertical-align: top;\n",
       "    }\n",
       "\n",
       "    .dataframe thead tr th {\n",
       "        text-align: left;\n",
       "    }\n",
       "\n",
       "    .dataframe thead tr:last-of-type th {\n",
       "        text-align: right;\n",
       "    }\n",
       "</style>\n",
       "<table border=\"1\" class=\"dataframe\">\n",
       "  <thead>\n",
       "    <tr>\n",
       "      <th></th>\n",
       "      <th colspan=\"5\" halign=\"left\">AGG</th>\n",
       "      <th colspan=\"5\" halign=\"left\">SPY</th>\n",
       "    </tr>\n",
       "    <tr>\n",
       "      <th></th>\n",
       "      <th>open</th>\n",
       "      <th>high</th>\n",
       "      <th>low</th>\n",
       "      <th>close</th>\n",
       "      <th>volume</th>\n",
       "      <th>open</th>\n",
       "      <th>high</th>\n",
       "      <th>low</th>\n",
       "      <th>close</th>\n",
       "      <th>volume</th>\n",
       "    </tr>\n",
       "    <tr>\n",
       "      <th>time</th>\n",
       "      <th></th>\n",
       "      <th></th>\n",
       "      <th></th>\n",
       "      <th></th>\n",
       "      <th></th>\n",
       "      <th></th>\n",
       "      <th></th>\n",
       "      <th></th>\n",
       "      <th></th>\n",
       "      <th></th>\n",
       "    </tr>\n",
       "  </thead>\n",
       "  <tbody>\n",
       "    <tr>\n",
       "      <th>2011-07-29 00:00:00-04:00</th>\n",
       "      <td>107.80</td>\n",
       "      <td>108.2001</td>\n",
       "      <td>107.7000</td>\n",
       "      <td>108.1600</td>\n",
       "      <td>1095380</td>\n",
       "      <td>128.90</td>\n",
       "      <td>130.55</td>\n",
       "      <td>127.9667</td>\n",
       "      <td>129.32</td>\n",
       "      <td>241904631</td>\n",
       "    </tr>\n",
       "    <tr>\n",
       "      <th>2011-08-01 00:00:00-04:00</th>\n",
       "      <td>107.84</td>\n",
       "      <td>108.2300</td>\n",
       "      <td>107.8200</td>\n",
       "      <td>108.1200</td>\n",
       "      <td>1238450</td>\n",
       "      <td>130.84</td>\n",
       "      <td>130.96</td>\n",
       "      <td>127.5300</td>\n",
       "      <td>128.79</td>\n",
       "      <td>256121335</td>\n",
       "    </tr>\n",
       "    <tr>\n",
       "      <th>2011-08-02 00:00:00-04:00</th>\n",
       "      <td>108.29</td>\n",
       "      <td>108.6700</td>\n",
       "      <td>108.1400</td>\n",
       "      <td>108.5900</td>\n",
       "      <td>972946</td>\n",
       "      <td>127.80</td>\n",
       "      <td>128.50</td>\n",
       "      <td>125.4900</td>\n",
       "      <td>125.50</td>\n",
       "      <td>266792990</td>\n",
       "    </tr>\n",
       "    <tr>\n",
       "      <th>2011-08-03 00:00:00-04:00</th>\n",
       "      <td>108.69</td>\n",
       "      <td>108.9499</td>\n",
       "      <td>108.6100</td>\n",
       "      <td>108.7000</td>\n",
       "      <td>1168138</td>\n",
       "      <td>125.66</td>\n",
       "      <td>126.31</td>\n",
       "      <td>123.5300</td>\n",
       "      <td>126.20</td>\n",
       "      <td>328781344</td>\n",
       "    </tr>\n",
       "    <tr>\n",
       "      <th>2011-08-04 00:00:00-04:00</th>\n",
       "      <td>108.80</td>\n",
       "      <td>109.3700</td>\n",
       "      <td>108.7600</td>\n",
       "      <td>109.2600</td>\n",
       "      <td>1492192</td>\n",
       "      <td>124.42</td>\n",
       "      <td>124.62</td>\n",
       "      <td>120.0600</td>\n",
       "      <td>120.20</td>\n",
       "      <td>435339364</td>\n",
       "    </tr>\n",
       "    <tr>\n",
       "      <th>...</th>\n",
       "      <td>...</td>\n",
       "      <td>...</td>\n",
       "      <td>...</td>\n",
       "      <td>...</td>\n",
       "      <td>...</td>\n",
       "      <td>...</td>\n",
       "      <td>...</td>\n",
       "      <td>...</td>\n",
       "      <td>...</td>\n",
       "      <td>...</td>\n",
       "    </tr>\n",
       "    <tr>\n",
       "      <th>2013-05-06 00:00:00-04:00</th>\n",
       "      <td>110.94</td>\n",
       "      <td>111.0000</td>\n",
       "      <td>110.8100</td>\n",
       "      <td>110.8150</td>\n",
       "      <td>627824</td>\n",
       "      <td>161.49</td>\n",
       "      <td>162.01</td>\n",
       "      <td>161.4200</td>\n",
       "      <td>161.79</td>\n",
       "      <td>56152532</td>\n",
       "    </tr>\n",
       "    <tr>\n",
       "      <th>2013-05-07 00:00:00-04:00</th>\n",
       "      <td>110.79</td>\n",
       "      <td>110.8500</td>\n",
       "      <td>110.7500</td>\n",
       "      <td>110.7599</td>\n",
       "      <td>773651</td>\n",
       "      <td>162.12</td>\n",
       "      <td>162.65</td>\n",
       "      <td>161.6700</td>\n",
       "      <td>162.59</td>\n",
       "      <td>76211275</td>\n",
       "    </tr>\n",
       "    <tr>\n",
       "      <th>2013-05-08 00:00:00-04:00</th>\n",
       "      <td>110.83</td>\n",
       "      <td>110.9000</td>\n",
       "      <td>110.7601</td>\n",
       "      <td>110.8500</td>\n",
       "      <td>862300</td>\n",
       "      <td>162.42</td>\n",
       "      <td>163.39</td>\n",
       "      <td>162.3300</td>\n",
       "      <td>163.34</td>\n",
       "      <td>79230675</td>\n",
       "    </tr>\n",
       "    <tr>\n",
       "      <th>2013-05-09 00:00:00-04:00</th>\n",
       "      <td>110.85</td>\n",
       "      <td>110.9500</td>\n",
       "      <td>110.7000</td>\n",
       "      <td>110.7000</td>\n",
       "      <td>518333</td>\n",
       "      <td>163.27</td>\n",
       "      <td>163.70</td>\n",
       "      <td>162.4700</td>\n",
       "      <td>162.88</td>\n",
       "      <td>89386744</td>\n",
       "    </tr>\n",
       "    <tr>\n",
       "      <th>2013-05-10 00:00:00-04:00</th>\n",
       "      <td>110.69</td>\n",
       "      <td>110.7400</td>\n",
       "      <td>110.3501</td>\n",
       "      <td>110.4800</td>\n",
       "      <td>376487</td>\n",
       "      <td>162.99</td>\n",
       "      <td>163.49</td>\n",
       "      <td>162.5100</td>\n",
       "      <td>163.45</td>\n",
       "      <td>82907904</td>\n",
       "    </tr>\n",
       "  </tbody>\n",
       "</table>\n",
       "<p>448 rows × 10 columns</p>\n",
       "</div>"
      ],
      "text/plain": [
       "                              AGG                                         \\\n",
       "                             open      high       low     close   volume   \n",
       "time                                                                       \n",
       "2011-07-29 00:00:00-04:00  107.80  108.2001  107.7000  108.1600  1095380   \n",
       "2011-08-01 00:00:00-04:00  107.84  108.2300  107.8200  108.1200  1238450   \n",
       "2011-08-02 00:00:00-04:00  108.29  108.6700  108.1400  108.5900   972946   \n",
       "2011-08-03 00:00:00-04:00  108.69  108.9499  108.6100  108.7000  1168138   \n",
       "2011-08-04 00:00:00-04:00  108.80  109.3700  108.7600  109.2600  1492192   \n",
       "...                           ...       ...       ...       ...      ...   \n",
       "2013-05-06 00:00:00-04:00  110.94  111.0000  110.8100  110.8150   627824   \n",
       "2013-05-07 00:00:00-04:00  110.79  110.8500  110.7500  110.7599   773651   \n",
       "2013-05-08 00:00:00-04:00  110.83  110.9000  110.7601  110.8500   862300   \n",
       "2013-05-09 00:00:00-04:00  110.85  110.9500  110.7000  110.7000   518333   \n",
       "2013-05-10 00:00:00-04:00  110.69  110.7400  110.3501  110.4800   376487   \n",
       "\n",
       "                              SPY                                       \n",
       "                             open    high       low   close     volume  \n",
       "time                                                                    \n",
       "2011-07-29 00:00:00-04:00  128.90  130.55  127.9667  129.32  241904631  \n",
       "2011-08-01 00:00:00-04:00  130.84  130.96  127.5300  128.79  256121335  \n",
       "2011-08-02 00:00:00-04:00  127.80  128.50  125.4900  125.50  266792990  \n",
       "2011-08-03 00:00:00-04:00  125.66  126.31  123.5300  126.20  328781344  \n",
       "2011-08-04 00:00:00-04:00  124.42  124.62  120.0600  120.20  435339364  \n",
       "...                           ...     ...       ...     ...        ...  \n",
       "2013-05-06 00:00:00-04:00  161.49  162.01  161.4200  161.79   56152532  \n",
       "2013-05-07 00:00:00-04:00  162.12  162.65  161.6700  162.59   76211275  \n",
       "2013-05-08 00:00:00-04:00  162.42  163.39  162.3300  163.34   79230675  \n",
       "2013-05-09 00:00:00-04:00  163.27  163.70  162.4700  162.88   89386744  \n",
       "2013-05-10 00:00:00-04:00  162.99  163.49  162.5100  163.45   82907904  \n",
       "\n",
       "[448 rows x 10 columns]"
      ]
     },
     "execution_count": 172,
     "metadata": {},
     "output_type": "execute_result"
    }
   ],
   "source": [
    "df_portfolio4 = alpaca.get_barset(\n",
    "    tickers,\n",
    "    timeframe,\n",
    "    limit=1000,\n",
    "    start = fourth_end_date,\n",
    "    end = third_end_date\n",
    ").df\n",
    "df_portfolio4"
   ]
  },
  {
   "cell_type": "code",
   "execution_count": 203,
   "metadata": {},
   "outputs": [
    {
     "data": {
      "text/html": [
       "<div>\n",
       "<style scoped>\n",
       "    .dataframe tbody tr th:only-of-type {\n",
       "        vertical-align: middle;\n",
       "    }\n",
       "\n",
       "    .dataframe tbody tr th {\n",
       "        vertical-align: top;\n",
       "    }\n",
       "\n",
       "    .dataframe thead tr th {\n",
       "        text-align: left;\n",
       "    }\n",
       "\n",
       "    .dataframe thead tr:last-of-type th {\n",
       "        text-align: right;\n",
       "    }\n",
       "</style>\n",
       "<table border=\"1\" class=\"dataframe\">\n",
       "  <thead>\n",
       "    <tr>\n",
       "      <th></th>\n",
       "      <th colspan=\"5\" halign=\"left\">AGG</th>\n",
       "      <th colspan=\"5\" halign=\"left\">SPY</th>\n",
       "    </tr>\n",
       "    <tr>\n",
       "      <th></th>\n",
       "      <th>open</th>\n",
       "      <th>high</th>\n",
       "      <th>low</th>\n",
       "      <th>close</th>\n",
       "      <th>volume</th>\n",
       "      <th>open</th>\n",
       "      <th>high</th>\n",
       "      <th>low</th>\n",
       "      <th>close</th>\n",
       "      <th>volume</th>\n",
       "    </tr>\n",
       "    <tr>\n",
       "      <th>time</th>\n",
       "      <th></th>\n",
       "      <th></th>\n",
       "      <th></th>\n",
       "      <th></th>\n",
       "      <th></th>\n",
       "      <th></th>\n",
       "      <th></th>\n",
       "      <th></th>\n",
       "      <th></th>\n",
       "      <th></th>\n",
       "    </tr>\n",
       "  </thead>\n",
       "  <tbody>\n",
       "    <tr>\n",
       "      <th>2011-07-29 00:00:00-04:00</th>\n",
       "      <td>107.80</td>\n",
       "      <td>108.2001</td>\n",
       "      <td>107.7000</td>\n",
       "      <td>108.16</td>\n",
       "      <td>1095380.0</td>\n",
       "      <td>128.90</td>\n",
       "      <td>130.55</td>\n",
       "      <td>127.9667</td>\n",
       "      <td>129.32</td>\n",
       "      <td>241904631</td>\n",
       "    </tr>\n",
       "    <tr>\n",
       "      <th>2011-08-01 00:00:00-04:00</th>\n",
       "      <td>107.84</td>\n",
       "      <td>108.2300</td>\n",
       "      <td>107.8200</td>\n",
       "      <td>108.12</td>\n",
       "      <td>1238450.0</td>\n",
       "      <td>130.84</td>\n",
       "      <td>130.96</td>\n",
       "      <td>127.5300</td>\n",
       "      <td>128.79</td>\n",
       "      <td>256121335</td>\n",
       "    </tr>\n",
       "    <tr>\n",
       "      <th>2011-08-02 00:00:00-04:00</th>\n",
       "      <td>108.29</td>\n",
       "      <td>108.6700</td>\n",
       "      <td>108.1400</td>\n",
       "      <td>108.59</td>\n",
       "      <td>972946.0</td>\n",
       "      <td>127.80</td>\n",
       "      <td>128.50</td>\n",
       "      <td>125.4900</td>\n",
       "      <td>125.50</td>\n",
       "      <td>266792990</td>\n",
       "    </tr>\n",
       "    <tr>\n",
       "      <th>2011-08-03 00:00:00-04:00</th>\n",
       "      <td>108.69</td>\n",
       "      <td>108.9499</td>\n",
       "      <td>108.6100</td>\n",
       "      <td>108.70</td>\n",
       "      <td>1168138.0</td>\n",
       "      <td>125.66</td>\n",
       "      <td>126.31</td>\n",
       "      <td>123.5300</td>\n",
       "      <td>126.20</td>\n",
       "      <td>328781344</td>\n",
       "    </tr>\n",
       "    <tr>\n",
       "      <th>2011-08-04 00:00:00-04:00</th>\n",
       "      <td>108.80</td>\n",
       "      <td>109.3700</td>\n",
       "      <td>108.7600</td>\n",
       "      <td>109.26</td>\n",
       "      <td>1492192.0</td>\n",
       "      <td>124.42</td>\n",
       "      <td>124.62</td>\n",
       "      <td>120.0600</td>\n",
       "      <td>120.20</td>\n",
       "      <td>435339364</td>\n",
       "    </tr>\n",
       "    <tr>\n",
       "      <th>...</th>\n",
       "      <td>...</td>\n",
       "      <td>...</td>\n",
       "      <td>...</td>\n",
       "      <td>...</td>\n",
       "      <td>...</td>\n",
       "      <td>...</td>\n",
       "      <td>...</td>\n",
       "      <td>...</td>\n",
       "      <td>...</td>\n",
       "      <td>...</td>\n",
       "    </tr>\n",
       "    <tr>\n",
       "      <th>2021-07-23 00:00:00-04:00</th>\n",
       "      <td>116.03</td>\n",
       "      <td>116.2200</td>\n",
       "      <td>116.0300</td>\n",
       "      <td>116.21</td>\n",
       "      <td>4137100.0</td>\n",
       "      <td>437.53</td>\n",
       "      <td>440.30</td>\n",
       "      <td>436.7900</td>\n",
       "      <td>439.90</td>\n",
       "      <td>53294703</td>\n",
       "    </tr>\n",
       "    <tr>\n",
       "      <th>2021-07-26 00:00:00-04:00</th>\n",
       "      <td>116.30</td>\n",
       "      <td>116.3300</td>\n",
       "      <td>116.0850</td>\n",
       "      <td>116.11</td>\n",
       "      <td>7028009.0</td>\n",
       "      <td>439.31</td>\n",
       "      <td>441.03</td>\n",
       "      <td>439.2600</td>\n",
       "      <td>440.99</td>\n",
       "      <td>40155852</td>\n",
       "    </tr>\n",
       "    <tr>\n",
       "      <th>2021-07-27 00:00:00-04:00</th>\n",
       "      <td>116.35</td>\n",
       "      <td>116.4000</td>\n",
       "      <td>116.2727</td>\n",
       "      <td>116.39</td>\n",
       "      <td>4669859.0</td>\n",
       "      <td>439.91</td>\n",
       "      <td>439.94</td>\n",
       "      <td>435.9900</td>\n",
       "      <td>439.00</td>\n",
       "      <td>61032234</td>\n",
       "    </tr>\n",
       "    <tr>\n",
       "      <th>2021-07-28 00:00:00-04:00</th>\n",
       "      <td>116.24</td>\n",
       "      <td>116.4900</td>\n",
       "      <td>116.1400</td>\n",
       "      <td>116.48</td>\n",
       "      <td>5189696.0</td>\n",
       "      <td>439.68</td>\n",
       "      <td>440.30</td>\n",
       "      <td>437.3100</td>\n",
       "      <td>438.84</td>\n",
       "      <td>47642330</td>\n",
       "    </tr>\n",
       "    <tr>\n",
       "      <th>2021-07-29 00:00:00-04:00</th>\n",
       "      <td>116.29</td>\n",
       "      <td>116.3600</td>\n",
       "      <td>116.2250</td>\n",
       "      <td>116.28</td>\n",
       "      <td>5216456.0</td>\n",
       "      <td>439.83</td>\n",
       "      <td>441.80</td>\n",
       "      <td>439.8100</td>\n",
       "      <td>440.67</td>\n",
       "      <td>40930880</td>\n",
       "    </tr>\n",
       "  </tbody>\n",
       "</table>\n",
       "<p>2518 rows × 10 columns</p>\n",
       "</div>"
      ],
      "text/plain": [
       "                              AGG                                         \\\n",
       "                             open      high       low   close     volume   \n",
       "time                                                                       \n",
       "2011-07-29 00:00:00-04:00  107.80  108.2001  107.7000  108.16  1095380.0   \n",
       "2011-08-01 00:00:00-04:00  107.84  108.2300  107.8200  108.12  1238450.0   \n",
       "2011-08-02 00:00:00-04:00  108.29  108.6700  108.1400  108.59   972946.0   \n",
       "2011-08-03 00:00:00-04:00  108.69  108.9499  108.6100  108.70  1168138.0   \n",
       "2011-08-04 00:00:00-04:00  108.80  109.3700  108.7600  109.26  1492192.0   \n",
       "...                           ...       ...       ...     ...        ...   \n",
       "2021-07-23 00:00:00-04:00  116.03  116.2200  116.0300  116.21  4137100.0   \n",
       "2021-07-26 00:00:00-04:00  116.30  116.3300  116.0850  116.11  7028009.0   \n",
       "2021-07-27 00:00:00-04:00  116.35  116.4000  116.2727  116.39  4669859.0   \n",
       "2021-07-28 00:00:00-04:00  116.24  116.4900  116.1400  116.48  5189696.0   \n",
       "2021-07-29 00:00:00-04:00  116.29  116.3600  116.2250  116.28  5216456.0   \n",
       "\n",
       "                              SPY                                       \n",
       "                             open    high       low   close     volume  \n",
       "time                                                                    \n",
       "2011-07-29 00:00:00-04:00  128.90  130.55  127.9667  129.32  241904631  \n",
       "2011-08-01 00:00:00-04:00  130.84  130.96  127.5300  128.79  256121335  \n",
       "2011-08-02 00:00:00-04:00  127.80  128.50  125.4900  125.50  266792990  \n",
       "2011-08-03 00:00:00-04:00  125.66  126.31  123.5300  126.20  328781344  \n",
       "2011-08-04 00:00:00-04:00  124.42  124.62  120.0600  120.20  435339364  \n",
       "...                           ...     ...       ...     ...        ...  \n",
       "2021-07-23 00:00:00-04:00  437.53  440.30  436.7900  439.90   53294703  \n",
       "2021-07-26 00:00:00-04:00  439.31  441.03  439.2600  440.99   40155852  \n",
       "2021-07-27 00:00:00-04:00  439.91  439.94  435.9900  439.00   61032234  \n",
       "2021-07-28 00:00:00-04:00  439.68  440.30  437.3100  438.84   47642330  \n",
       "2021-07-29 00:00:00-04:00  439.83  441.80  439.8100  440.67   40930880  \n",
       "\n",
       "[2518 rows x 10 columns]"
      ]
     },
     "execution_count": 203,
     "metadata": {},
     "output_type": "execute_result"
    }
   ],
   "source": [
    "ten_year_portfolio = pd.concat([df_portfolio1, df_portfolio2, df_portfolio3, df_portfolio4])\n",
    "ten_year_portfolio.sort_index()"
   ]
  },
  {
   "cell_type": "code",
   "execution_count": null,
   "metadata": {},
   "outputs": [],
   "source": [
    "# Configure the Monte Carlo simulation to forecast 30 years cumulative returns\n",
    "# The weights should be split 40% to AGG and 60% to SPY.\n",
    "# Run 500 samples.\n",
    "# YOUR CODE HERE\n",
    "\n",
    "# Review the simulation input data\n",
    "# YOUR CODE HERE\n"
   ]
  },
  {
   "cell_type": "code",
   "execution_count": null,
   "metadata": {},
   "outputs": [],
   "source": [
    "# Run the Monte Carlo simulation to forecast 30 years cumulative returns\n",
    "# YOUR CODE HERE\n"
   ]
  },
  {
   "cell_type": "code",
   "execution_count": null,
   "metadata": {},
   "outputs": [],
   "source": [
    "# Visualize the 30-year Monte Carlo simulation by creating an\n",
    "# overlay line plot\n",
    "# YOUR CODE HERE\n"
   ]
  },
  {
   "cell_type": "markdown",
   "metadata": {},
   "source": [
    "#### Step 3: Plot the probability distribution of the Monte Carlo simulation."
   ]
  },
  {
   "cell_type": "code",
   "execution_count": null,
   "metadata": {},
   "outputs": [],
   "source": [
    "# Visualize the probability distribution of the 30-year Monte Carlo simulation \n",
    "# by plotting a histogram\n",
    "# YOUR CODE HERE\n"
   ]
  },
  {
   "cell_type": "markdown",
   "metadata": {},
   "source": [
    "#### Step 4: Generate the summary statistics for the Monte Carlo simulation."
   ]
  },
  {
   "cell_type": "code",
   "execution_count": null,
   "metadata": {},
   "outputs": [],
   "source": [
    "# Generate summary statistics from the 30-year Monte Carlo simulation results\n",
    "# Save the results as a variable\n",
    "# YOUR CODE HERE\n",
    "\n",
    "\n",
    "# Review the 30-year Monte Carlo summary statistics\n",
    "# YOUR CODE HERE"
   ]
  },
  {
   "cell_type": "markdown",
   "metadata": {},
   "source": [
    "### Analyze the Retirement Portfolio Forecasts\n",
    "\n",
    "Using the current value of only the stock and bond portion of the member's portfolio and the summary statistics that you generated from the Monte Carlo simulation, answer the following question in your Jupyter notebook:\n",
    "\n",
    "-  What are the lower and upper bounds for the expected value of the portfolio with a 95% confidence interval?\n"
   ]
  },
  {
   "cell_type": "code",
   "execution_count": null,
   "metadata": {},
   "outputs": [],
   "source": [
    "# Print the current balance of the stock and bond portion of the members portfolio\n",
    "# YOUR CODE HERE\n"
   ]
  },
  {
   "cell_type": "code",
   "execution_count": null,
   "metadata": {},
   "outputs": [],
   "source": [
    "# Use the lower and upper `95%` confidence intervals to calculate the range of the possible outcomes for the current stock/bond portfolio\n",
    "ci_lower_thirty_cumulative_return = # YOUR CODE HERE\n",
    "ci_upper_thirty_cumulative_return = # YOUR CODE HERE\n",
    "\n",
    "# Print the result of your calculations\n",
    "# YOUR CODE HERE\n"
   ]
  },
  {
   "cell_type": "markdown",
   "metadata": {},
   "source": [
    "### Forecast Cumulative Returns in 10 Years\n",
    "\n",
    "The CTO of the credit union is impressed with your work on these planning tools but wonders if 30 years is a long time to wait until retirement. So, your next task is to adjust the retirement portfolio and run a new Monte Carlo simulation to find out if the changes will allow members to retire earlier.\n",
    "\n",
    "For this new Monte Carlo simulation, do the following: \n",
    "\n",
    "- Forecast the cumulative returns for 10 years from now. Because of the shortened investment horizon (30 years to 10 years), the portfolio needs to invest more heavily in the riskier asset&mdash;that is, stock&mdash;to help accumulate wealth for retirement. \n",
    "\n",
    "- Adjust the weights of the retirement portfolio so that the composition for the Monte Carlo simulation consists of 20% bonds and 80% stocks. \n",
    "\n",
    "- Run the simulation over 500 samples, and use the same data that the API call to Alpaca generated.\n",
    "\n",
    "- Based on the new Monte Carlo simulation, answer the following questions in your Jupyter notebook:\n",
    "\n",
    "    - Using the current value of only the stock and bond portion of the member's portfolio and the summary statistics that you generated from the new Monte Carlo simulation, what are the lower and upper bounds for the expected value of the portfolio (with the new weights) with a 95% confidence interval?\n",
    "\n",
    "    - Will weighting the portfolio more heavily toward stocks allow the credit union members to retire after only 10 years?\n"
   ]
  },
  {
   "cell_type": "code",
   "execution_count": null,
   "metadata": {},
   "outputs": [],
   "source": [
    "# Configure a Monte Carlo simulation to forecast 10 years cumulative returns\n",
    "# The weights should be split 20% to AGG and 80% to SPY.\n",
    "# Run 500 samples.\n",
    "# YOUR CODE HERE\n",
    "\n",
    "# Review the simulation input data\n",
    "# YOUR CODE HERE\n"
   ]
  },
  {
   "cell_type": "code",
   "execution_count": null,
   "metadata": {},
   "outputs": [],
   "source": [
    "# Run the Monte Carlo simulation to forecast 10 years cumulative returns\n",
    "# YOUR CODE HERE\n"
   ]
  },
  {
   "cell_type": "code",
   "execution_count": null,
   "metadata": {},
   "outputs": [],
   "source": [
    "# Visualize the 10-year Monte Carlo simulation by creating an\n",
    "# overlay line plot\n",
    "# YOUR CODE HERE\n"
   ]
  },
  {
   "cell_type": "code",
   "execution_count": null,
   "metadata": {},
   "outputs": [],
   "source": [
    "# Visualize the probability distribution of the 10-year Monte Carlo simulation \n",
    "# by plotting a histogram\n",
    "# YOUR CODE HERE\n"
   ]
  },
  {
   "cell_type": "code",
   "execution_count": null,
   "metadata": {},
   "outputs": [],
   "source": [
    "# Generate summary statistics from the 10-year Monte Carlo simulation results\n",
    "# Save the results as a variable\n",
    "# YOUR CODE HERE\n",
    "\n",
    "\n",
    "# Review the 10-year Monte Carlo summary statistics\n",
    "# YOUR CODE HERE"
   ]
  },
  {
   "cell_type": "markdown",
   "metadata": {},
   "source": [
    "### Answer the following questions:"
   ]
  },
  {
   "cell_type": "markdown",
   "metadata": {},
   "source": [
    "#### Question: Using the current value of only the stock and bond portion of the member's portfolio and the summary statistics that you generated from the new Monte Carlo simulation, what are the lower and upper bounds for the expected value of the portfolio (with the new weights) with a 95% confidence interval?"
   ]
  },
  {
   "cell_type": "code",
   "execution_count": null,
   "metadata": {},
   "outputs": [],
   "source": [
    "# Print the current balance of the stock and bond portion of the members portfolio\n",
    "# YOUR CODE HERE\n"
   ]
  },
  {
   "cell_type": "code",
   "execution_count": null,
   "metadata": {},
   "outputs": [],
   "source": [
    "# Use the lower and upper `95%` confidence intervals to calculate the range of the possible outcomes for the current stock/bond portfolio\n",
    "ci_lower_ten_cumulative_return = # YOUR CODE HERE\n",
    "ci_upper_ten_cumulative_return = # YOUR CODE HERE\n",
    "\n",
    "# Print the result of your calculations\n",
    "# YOUR CODE HERE\n"
   ]
  },
  {
   "cell_type": "markdown",
   "metadata": {},
   "source": [
    "#### Question: Will weighting the portfolio more heavily to stocks allow the credit union members to retire after only 10 years?"
   ]
  },
  {
   "cell_type": "raw",
   "metadata": {},
   "source": [
    "**Answer** # YOUR ANSWER HERE"
   ]
  },
  {
   "cell_type": "code",
   "execution_count": null,
   "metadata": {},
   "outputs": [],
   "source": []
  }
 ],
 "metadata": {
  "kernelspec": {
   "display_name": "dev",
   "language": "python",
   "name": "dev"
  },
  "language_info": {
   "codemirror_mode": {
    "name": "ipython",
    "version": 3
   },
   "file_extension": ".py",
   "mimetype": "text/x-python",
   "name": "python",
   "nbconvert_exporter": "python",
   "pygments_lexer": "ipython3",
   "version": "3.7.10"
  }
 },
 "nbformat": 4,
 "nbformat_minor": 4
}
